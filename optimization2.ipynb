{
 "cells": [
  {
   "cell_type": "markdown",
   "metadata": {},
   "source": [
    "# Import packages"
   ]
  },
  {
   "cell_type": "code",
   "execution_count": 3,
   "metadata": {},
   "outputs": [],
   "source": [
    "import pandas as pd\n",
    "from pulp import *\n",
    "from random import randint"
   ]
  },
  {
   "cell_type": "markdown",
   "metadata": {},
   "source": [
    "# Import data\n",
    "## Defining which dataset you want to use"
   ]
  },
  {
   "cell_type": "code",
   "execution_count": 286,
   "metadata": {},
   "outputs": [],
   "source": [
    "pred = int(input('Which predictions do you want to use? Press 1 for consultancy and 0 for our own predictions '))"
   ]
  },
  {
   "cell_type": "markdown",
   "metadata": {},
   "source": [
    "## Generating the dictionary containing the engines and their respective RULs"
   ]
  },
  {
   "cell_type": "code",
   "execution_count": 287,
   "metadata": {},
   "outputs": [],
   "source": [
    "if pred == 1:\n",
    "    RUL_data = pd.read_excel('RUL_consultancy_predictions.xlsx')\n",
    "else:\n",
    "    RUL_data = pd.read_excel('RUL_predictions.xlsx')\n",
    "\n",
    "T = 25 #planning horizon\n",
    "\n",
    "# rounding the predicted RUL values\n",
    "RUL_data.RUL = RUL_data['RUL'].round()\n",
    "\n",
    "# store the RUL values (as integers) in a list \n",
    "RUL_list = list(RUL_data.RUL.astype(int))\n",
    "\n",
    "# dictionary with engine numbers as keys and RUL values\n",
    "RUL_raw = {engine: RUL_list[engine-1] for engine in range(1,101)}\n",
    "\n",
    "RUL = {engine: value for engine, value in RUL_raw.items() if value < T}"
   ]
  },
  {
   "cell_type": "markdown",
   "metadata": {},
   "source": [
    "## Importing information about teams, times and precalculating the costs"
   ]
  },
  {
   "cell_type": "code",
   "execution_count": 288,
   "metadata": {},
   "outputs": [],
   "source": [
    "time_for_A = {}\n",
    "for engine in range(1,101):\n",
    "    if engine <= 25:\n",
    "        time_for_A[engine] = 4\n",
    "    elif engine <= 50:\n",
    "        time_for_A[engine] = 6\n",
    "    elif engine <= 75:\n",
    "        time_for_A[engine] = 3\n",
    "    else:\n",
    "        time_for_A[engine] = 5"
   ]
  },
  {
   "cell_type": "code",
   "execution_count": 289,
   "metadata": {},
   "outputs": [],
   "source": [
    "time_for_B = {}\n",
    "for engine in range(1,101):\n",
    "    if engine <= 33:\n",
    "        time_for_B[engine] = time_for_A[engine] + 1\n",
    "    elif engine <= 67:\n",
    "        time_for_B[engine] = time_for_A[engine] + 2\n",
    "    else:\n",
    "        time_for_B[engine] = time_for_A[engine] + 1"
   ]
  },
  {
   "cell_type": "code",
   "execution_count": 290,
   "metadata": {},
   "outputs": [],
   "source": [
    "cost = {}\n",
    "for engine in range(1,101):\n",
    "    if engine <= 20:\n",
    "        cost[engine] = 5\n",
    "    elif engine <= 40:\n",
    "        cost[engine] = 7\n",
    "    elif engine <= 60:\n",
    "        cost[engine] = 9\n",
    "    elif engine <= 80:\n",
    "        cost[engine] = 5\n",
    "    else:\n",
    "        cost[engine] = 3"
   ]
  },
  {
   "cell_type": "code",
   "execution_count": 291,
   "metadata": {},
   "outputs": [],
   "source": [
    "engines = list(RUL.keys()) #list of engines\n",
    "teams = ['A','A','B','B'] # 2teams of type A, 2teams of type B\n",
    "nr_teams = list(range(len(teams))) #list of teams with unique team number\n",
    "times = range(1,T+1)\n",
    "times_inclusive = range(0,T+1)\n",
    "\n",
    "# create a dictionary with unique teams (keys) having a dictionary (value) of maintenance \n",
    "# time required for each engine (considering the team type)\n",
    "maintenance_time = {}\n",
    "for team in range(len(teams)):\n",
    "    if teams[team] == 'A':\n",
    "        maintenance_time[team] = time_for_A\n",
    "    else:\n",
    "        maintenance_time[team] = time_for_B"
   ]
  },
  {
   "cell_type": "code",
   "execution_count": 292,
   "metadata": {},
   "outputs": [],
   "source": [
    "max_engines = {}\n",
    "for team in nr_teams:\n",
    "    if team == 0 or team == 1:\n",
    "        max_engines[team] = 2\n",
    "    else:\n",
    "        max_engines[team] = 2"
   ]
  },
  {
   "cell_type": "code",
   "execution_count": 293,
   "metadata": {},
   "outputs": [],
   "source": [
    "penalty = {}\n",
    "for q in nr_teams:\n",
    "    penalty[q] = {j: {t: max(0, min(cost[j]*(T-RUL[j]), cost[j]*(t+maintenance_time[q][j]-1-RUL[j]))) for t in times_inclusive} for j in engines}\n",
    "    \n",
    "for q in nr_teams:\n",
    "    for j in engines:\n",
    "        penalty[q][j][0] = penalty[q][j][T]\n",
    "        "
   ]
  },
  {
   "cell_type": "code",
   "execution_count": 294,
   "metadata": {},
   "outputs": [],
   "source": [
    "penalty_total = {}\n",
    "for j in engines:\n",
    "    penalty_total[j] = (T - RUL[j])*cost[j]"
   ]
  },
  {
   "cell_type": "markdown",
   "metadata": {},
   "source": [
    "# Create the model"
   ]
  },
  {
   "cell_type": "code",
   "execution_count": 295,
   "metadata": {},
   "outputs": [],
   "source": [
    "# Create a minimization model\n",
    "model = LpProblem(\"Airplane_Maintenance_Problem\", LpMinimize)"
   ]
  },
  {
   "cell_type": "code",
   "execution_count": 296,
   "metadata": {},
   "outputs": [],
   "source": [
    "#Declare Variables\n",
    "\n",
    "# Binary decision variable to see if team 'q' starts working on engine 'j' at time t \n",
    "x = LpVariable.dicts('x',indexs = (nr_teams, engines, times), lowBound=0, upBound=1, cat='Binary')"
   ]
  },
  {
   "cell_type": "code",
   "execution_count": 297,
   "metadata": {},
   "outputs": [],
   "source": [
    "# Objective function\n",
    "model += lpSum(lpSum(lpSum(x[q][j][t]*penalty[q][j][t] for t in times) for j in engines) for q in nr_teams) + \\\n",
    "lpSum((1-lpSum(lpSum((x[q][j][t]) for t in times) for q in nr_teams))*penalty_total[j] for j in engines)"
   ]
  },
  {
   "cell_type": "code",
   "execution_count": 298,
   "metadata": {},
   "outputs": [],
   "source": [
    "# No runover the end of T\n",
    "for j in engines:\n",
    "    model += lpSum(lpSum(x[q][j][t]*(t + maintenance_time[q][j]-1) for t in times) for q in nr_teams) <= T"
   ]
  },
  {
   "cell_type": "code",
   "execution_count": 299,
   "metadata": {},
   "outputs": [],
   "source": [
    " # Constraint that only 1 team can work on an engine\n",
    "for j in engines:\n",
    "    model += lpSum(lpSum(x[q][j][t] for q in nr_teams) for t in times) <= 1"
   ]
  },
  {
   "cell_type": "code",
   "execution_count": 300,
   "metadata": {},
   "outputs": [],
   "source": [
    "# Constraint that work cannot start on two engines at the same time\n",
    "for t in times:\n",
    "    for q in nr_teams:\n",
    "        model += lpSum(x[q][j][t] for j in engines) <= 1"
   ]
  },
  {
   "cell_type": "code",
   "execution_count": 301,
   "metadata": {},
   "outputs": [],
   "source": [
    "# Constraint that the team can only work on 2 engines if T=25\n",
    "\n",
    "for q in nr_teams:\n",
    "    model += lpSum(lpSum(x[q][j][t] for j in engines) for t in times) <= max_engines[q]"
   ]
  },
  {
   "cell_type": "code",
   "execution_count": 302,
   "metadata": {},
   "outputs": [],
   "source": [
    "K = 69\n",
    "\n",
    "# Overlap constraint\n",
    "for q in nr_teams:\n",
    "    for t0 in times:\n",
    "        for j1 in engines:\n",
    "            model += K*x[q][j1][t0]+(lpSum(lpSum(x[q][j2][t] for j2 in engines) for t in range(t0+1,min(t0+maintenance_time[q][j1]-1,T)+1))) <= K\n",
    "            "
   ]
  },
  {
   "cell_type": "markdown",
   "metadata": {},
   "source": [
    "# Solve the model"
   ]
  },
  {
   "cell_type": "code",
   "execution_count": 278,
   "metadata": {},
   "outputs": [
    {
     "name": "stdout",
     "output_type": "stream",
     "text": [
      "Status = Optimal\n",
      "Minimum Cost = 227.0\n"
     ]
    }
   ],
   "source": [
    "model.solve()\n",
    "\n",
    "#The status of the solution is printed on the screen \n",
    "print(\"Status = %s\" % LpStatus[model.status])\n",
    "\n",
    "# The optimised objective function value is printed to the screen\n",
    "print( \"Minimum Cost = \" +str( value(model.objective) ) )"
   ]
  },
  {
   "cell_type": "markdown",
   "metadata": {},
   "source": [
    "# Output to excel files"
   ]
  },
  {
   "cell_type": "code",
   "execution_count": 279,
   "metadata": {},
   "outputs": [],
   "source": [
    "output = {}\n",
    "for q in nr_teams:\n",
    "    for t in times:\n",
    "        for j in engines:\n",
    "            if x[q][j][t].varValue == 1:\n",
    "                output.setdefault(q, {})[j] = {'start time': t, 'finish time': t+maintenance_time[q][j]-1, 'maintenance_time': maintenance_time[q][j]}"
   ]
  },
  {
   "cell_type": "code",
   "execution_count": 280,
   "metadata": {},
   "outputs": [],
   "source": [
    "output_df = pd.DataFrame.from_dict({(i,j): output[i][j] \n",
    "                           for i in output.keys() \n",
    "                           for j in output[i].keys()},\n",
    "                       orient='index')\n",
    "\n",
    "output_df = output_df.rename_axis(['team', 'engine'])\n",
    "output_df = output_df.sort_values(['team', 'start time'])"
   ]
  },
  {
   "cell_type": "code",
   "execution_count": 282,
   "metadata": {},
   "outputs": [],
   "source": [
    "costs_per_engine = {}\n",
    "\n",
    "for t in times:\n",
    "    for j in engines:\n",
    "        for q in nr_teams:\n",
    "            if x[q][j][t].varValue == 1:\n",
    "                costs_per_engine[j] = penalty[q][j][t]\n",
    "\n",
    "for j in engines:\n",
    "    if j not in costs_per_engine.keys():\n",
    "        costs_per_engine[j] = penalty_total[j]"
   ]
  },
  {
   "cell_type": "code",
   "execution_count": 283,
   "metadata": {},
   "outputs": [],
   "source": [
    "costs_per_engine_df = pd.DataFrame.from_dict(costs_per_engine, orient = 'index', columns = ['costs'])\n",
    "costs_per_engine_df = costs_per_engine_df.rename_axis('engine')\n",
    "costs_per_engine_df = costs_per_engine_df.sort_values(['engine'])\n",
    "costs_per_engine_df['total costs'] = costs_per_engine_df['costs'].cumsum()"
   ]
  },
  {
   "cell_type": "code",
   "execution_count": null,
   "metadata": {},
   "outputs": [],
   "source": [
    "if pred==1:\n",
    "    with pd.ExcelWriter('Optimization2C.xls') as writer:  # doctest: +SKIP\n",
    "         output_df.to_excel(writer, sheet_name='schedule')\n",
    "         costs_per_engine_df.to_excel(writer, sheet_name='costs')\n",
    "else:\n",
    "    with pd.ExcelWriter('Optimization2B.xls') as writer:  # doctest: +SKIP\n",
    "         output_df.to_excel(writer, sheet_name='schedule')\n",
    "         costs_per_engine_df.to_excel(writer, sheet_name='costs')"
   ]
  },
  {
   "cell_type": "markdown",
   "metadata": {},
   "source": [
    "# Check the results"
   ]
  },
  {
   "cell_type": "code",
   "execution_count": 208,
   "metadata": {
    "scrolled": true
   },
   "outputs": [
    {
     "name": "stdout",
     "output_type": "stream",
     "text": [
      "At time 1, team 0 starts work on engine: 34, penalty = 0, maintenance time = 6, finish time = 6, RUL = 6\n",
      "At time 7, team 0 starts work on engine: 49, penalty = 0, maintenance time = 6, finish time = 12, RUL = 14\n",
      "At time 1, team 1 starts work on engine: 76, penalty = 0, maintenance time = 5, finish time = 5, RUL = 6\n",
      "At time 6, team 1 starts work on engine: 35, penalty = 0, maintenance time = 6, finish time = 11, RUL = 11\n",
      "At time 1, team 2 starts work on engine: 68, penalty = 0, maintenance time = 4, finish time = 4, RUL = 9\n",
      "At time 5, team 2 starts work on engine: 31, penalty = 0, maintenance time = 7, finish time = 11, RUL = 11\n",
      "At time 4, team 3 starts work on engine: 42, penalty = 0, maintenance time = 8, finish time = 11, RUL = 11\n",
      "At time 12, team 3 starts work on engine: 56, penalty = 0, maintenance time = 5, finish time = 16, RUL = 16\n",
      "Total costs = 227.0\n"
     ]
    }
   ],
   "source": [
    "cost = 0\n",
    "for q in nr_teams:\n",
    "    for t in times:\n",
    "        for j in engines:\n",
    "            if x[q][j][t].varValue == 1:\n",
    "                print(\"At time %i, team %i starts work on engine: %i, penalty = %i, maintenance time = %i, finish time = %i, RUL = %i\" % (t, q, j, penalty[q][j][t], \n",
    "                                                                                                              maintenance_time[q][j], t + maintenance_time[q][j] - 1, RUL[j]))\n",
    "print(\"Total costs =\", value(model.objective))                "
   ]
  }
 ],
 "metadata": {
  "kernelspec": {
   "display_name": "Python 3",
   "language": "python",
   "name": "python3"
  },
  "language_info": {
   "codemirror_mode": {
    "name": "ipython",
    "version": 3
   },
   "file_extension": ".py",
   "mimetype": "text/x-python",
   "name": "python",
   "nbconvert_exporter": "python",
   "pygments_lexer": "ipython3",
   "version": "3.6.8"
  }
 },
 "nbformat": 4,
 "nbformat_minor": 2
}
