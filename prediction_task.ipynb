{
 "cells": [
  {
   "cell_type": "markdown",
   "metadata": {
    "colab_type": "text",
    "id": "gZ-mcl0mhcKz"
   },
   "source": [
    "# Prediction\n",
    "## Part A"
   ]
  },
  {
   "cell_type": "markdown",
   "metadata": {
    "colab_type": "text",
    "id": "-XLcOFNMhcK4"
   },
   "source": [
    "# Import packages"
   ]
  },
  {
   "cell_type": "code",
   "execution_count": 1,
   "metadata": {},
   "outputs": [],
   "source": [
    "%matplotlib agg"
   ]
  },
  {
   "cell_type": "code",
   "execution_count": 2,
   "metadata": {
    "colab": {},
    "colab_type": "code",
    "id": "c8u14x2GhcK7"
   },
   "outputs": [
    {
     "name": "stderr",
     "output_type": "stream",
     "text": [
      "/Users/sarahcoopmans96/anaconda3/lib/python3.6/site-packages/h5py/__init__.py:36: FutureWarning: Conversion of the second argument of issubdtype from `float` to `np.floating` is deprecated. In future, it will be treated as `np.float64 == np.dtype(float).type`.\n",
      "  from ._conv import register_converters as _register_converters\n"
     ]
    }
   ],
   "source": [
    "import pandas as pd\n",
    "import numpy as np\n",
    "import tensorflow as tf\n",
    "from tensorflow.keras import Sequential, layers\n",
    "from sklearn.model_selection import train_test_split\n",
    "from sklearn.linear_model import LinearRegression\n",
    "from sklearn.preprocessing import MinMaxScaler\n",
    "from sklearn.ensemble import RandomForestRegressor\n",
    "import random\n",
    "import math\n",
    "import matplotlib as mpl\n",
    "from matplotlib import pyplot as plt\n",
    "from copy import deepcopy\n",
    "mpl.interactive = 'off'\n",
    "mpl.style.use('fivethirtyeight')"
   ]
  },
  {
   "cell_type": "markdown",
   "metadata": {
    "colab_type": "text",
    "id": "kfC_QCOxhcLF"
   },
   "source": [
    "# Import data"
   ]
  },
  {
   "cell_type": "code",
   "execution_count": 3,
   "metadata": {
    "colab": {},
    "colab_type": "code",
    "id": "Qq9GTSf3hcLH"
   },
   "outputs": [],
   "source": [
    "operational_settings = ['operational_setting_{}'.format(i + 1) for i in range (3)]\n",
    "sensor_columns = ['sensor_measurement_{}'.format(i + 1) for i in range(21)]\n",
    "cols = ['engine_no', 'time_in_cycles'] + operational_settings + sensor_columns + ['empty1', 'empty2']\n",
    "df_train = pd.read_csv('DataTrain.txt', sep=' ', names=cols)\n",
    "\n",
    "# Because the .txt files ends every line with two spaces, pandas interprets these as two empty columns, so these can be dropped.\n",
    "df_train = df_train.drop(columns=['empty1','empty2'])"
   ]
  },
  {
   "cell_type": "code",
   "execution_count": 4,
   "metadata": {
    "colab": {},
    "colab_type": "code",
    "id": "QdQsYz8YhcLM",
    "outputId": "0501f0e3-fd92-49a7-ebf7-3ca04d8cea6c"
   },
   "outputs": [
    {
     "data": {
      "text/html": [
       "<div>\n",
       "<style scoped>\n",
       "    .dataframe tbody tr th:only-of-type {\n",
       "        vertical-align: middle;\n",
       "    }\n",
       "\n",
       "    .dataframe tbody tr th {\n",
       "        vertical-align: top;\n",
       "    }\n",
       "\n",
       "    .dataframe thead th {\n",
       "        text-align: right;\n",
       "    }\n",
       "</style>\n",
       "<table border=\"1\" class=\"dataframe\">\n",
       "  <thead>\n",
       "    <tr style=\"text-align: right;\">\n",
       "      <th></th>\n",
       "      <th>engine_no</th>\n",
       "      <th>time_in_cycles</th>\n",
       "      <th>operational_setting_1</th>\n",
       "      <th>operational_setting_2</th>\n",
       "      <th>operational_setting_3</th>\n",
       "      <th>sensor_measurement_1</th>\n",
       "      <th>sensor_measurement_2</th>\n",
       "      <th>sensor_measurement_3</th>\n",
       "      <th>sensor_measurement_4</th>\n",
       "      <th>sensor_measurement_5</th>\n",
       "      <th>...</th>\n",
       "      <th>sensor_measurement_12</th>\n",
       "      <th>sensor_measurement_13</th>\n",
       "      <th>sensor_measurement_14</th>\n",
       "      <th>sensor_measurement_15</th>\n",
       "      <th>sensor_measurement_16</th>\n",
       "      <th>sensor_measurement_17</th>\n",
       "      <th>sensor_measurement_18</th>\n",
       "      <th>sensor_measurement_19</th>\n",
       "      <th>sensor_measurement_20</th>\n",
       "      <th>sensor_measurement_21</th>\n",
       "    </tr>\n",
       "  </thead>\n",
       "  <tbody>\n",
       "    <tr>\n",
       "      <th>20626</th>\n",
       "      <td>100</td>\n",
       "      <td>196</td>\n",
       "      <td>-0.0004</td>\n",
       "      <td>-0.0003</td>\n",
       "      <td>100.0</td>\n",
       "      <td>518.67</td>\n",
       "      <td>643.49</td>\n",
       "      <td>1597.98</td>\n",
       "      <td>1428.63</td>\n",
       "      <td>14.62</td>\n",
       "      <td>...</td>\n",
       "      <td>519.49</td>\n",
       "      <td>2388.26</td>\n",
       "      <td>8137.60</td>\n",
       "      <td>8.4956</td>\n",
       "      <td>0.03</td>\n",
       "      <td>397</td>\n",
       "      <td>2388</td>\n",
       "      <td>100.0</td>\n",
       "      <td>38.49</td>\n",
       "      <td>22.9735</td>\n",
       "    </tr>\n",
       "    <tr>\n",
       "      <th>20627</th>\n",
       "      <td>100</td>\n",
       "      <td>197</td>\n",
       "      <td>-0.0016</td>\n",
       "      <td>-0.0005</td>\n",
       "      <td>100.0</td>\n",
       "      <td>518.67</td>\n",
       "      <td>643.54</td>\n",
       "      <td>1604.50</td>\n",
       "      <td>1433.58</td>\n",
       "      <td>14.62</td>\n",
       "      <td>...</td>\n",
       "      <td>519.68</td>\n",
       "      <td>2388.22</td>\n",
       "      <td>8136.50</td>\n",
       "      <td>8.5139</td>\n",
       "      <td>0.03</td>\n",
       "      <td>395</td>\n",
       "      <td>2388</td>\n",
       "      <td>100.0</td>\n",
       "      <td>38.30</td>\n",
       "      <td>23.1594</td>\n",
       "    </tr>\n",
       "    <tr>\n",
       "      <th>20628</th>\n",
       "      <td>100</td>\n",
       "      <td>198</td>\n",
       "      <td>0.0004</td>\n",
       "      <td>0.0000</td>\n",
       "      <td>100.0</td>\n",
       "      <td>518.67</td>\n",
       "      <td>643.42</td>\n",
       "      <td>1602.46</td>\n",
       "      <td>1428.18</td>\n",
       "      <td>14.62</td>\n",
       "      <td>...</td>\n",
       "      <td>520.01</td>\n",
       "      <td>2388.24</td>\n",
       "      <td>8141.05</td>\n",
       "      <td>8.5646</td>\n",
       "      <td>0.03</td>\n",
       "      <td>398</td>\n",
       "      <td>2388</td>\n",
       "      <td>100.0</td>\n",
       "      <td>38.44</td>\n",
       "      <td>22.9333</td>\n",
       "    </tr>\n",
       "    <tr>\n",
       "      <th>20629</th>\n",
       "      <td>100</td>\n",
       "      <td>199</td>\n",
       "      <td>-0.0011</td>\n",
       "      <td>0.0003</td>\n",
       "      <td>100.0</td>\n",
       "      <td>518.67</td>\n",
       "      <td>643.23</td>\n",
       "      <td>1605.26</td>\n",
       "      <td>1426.53</td>\n",
       "      <td>14.62</td>\n",
       "      <td>...</td>\n",
       "      <td>519.67</td>\n",
       "      <td>2388.23</td>\n",
       "      <td>8139.29</td>\n",
       "      <td>8.5389</td>\n",
       "      <td>0.03</td>\n",
       "      <td>395</td>\n",
       "      <td>2388</td>\n",
       "      <td>100.0</td>\n",
       "      <td>38.29</td>\n",
       "      <td>23.0640</td>\n",
       "    </tr>\n",
       "    <tr>\n",
       "      <th>20630</th>\n",
       "      <td>100</td>\n",
       "      <td>200</td>\n",
       "      <td>-0.0032</td>\n",
       "      <td>-0.0005</td>\n",
       "      <td>100.0</td>\n",
       "      <td>518.67</td>\n",
       "      <td>643.85</td>\n",
       "      <td>1600.38</td>\n",
       "      <td>1432.14</td>\n",
       "      <td>14.62</td>\n",
       "      <td>...</td>\n",
       "      <td>519.30</td>\n",
       "      <td>2388.26</td>\n",
       "      <td>8137.33</td>\n",
       "      <td>8.5036</td>\n",
       "      <td>0.03</td>\n",
       "      <td>396</td>\n",
       "      <td>2388</td>\n",
       "      <td>100.0</td>\n",
       "      <td>38.37</td>\n",
       "      <td>23.0522</td>\n",
       "    </tr>\n",
       "  </tbody>\n",
       "</table>\n",
       "<p>5 rows × 26 columns</p>\n",
       "</div>"
      ],
      "text/plain": [
       "       engine_no  time_in_cycles  operational_setting_1  \\\n",
       "20626        100             196                -0.0004   \n",
       "20627        100             197                -0.0016   \n",
       "20628        100             198                 0.0004   \n",
       "20629        100             199                -0.0011   \n",
       "20630        100             200                -0.0032   \n",
       "\n",
       "       operational_setting_2  operational_setting_3  sensor_measurement_1  \\\n",
       "20626                -0.0003                  100.0                518.67   \n",
       "20627                -0.0005                  100.0                518.67   \n",
       "20628                 0.0000                  100.0                518.67   \n",
       "20629                 0.0003                  100.0                518.67   \n",
       "20630                -0.0005                  100.0                518.67   \n",
       "\n",
       "       sensor_measurement_2  sensor_measurement_3  sensor_measurement_4  \\\n",
       "20626                643.49               1597.98               1428.63   \n",
       "20627                643.54               1604.50               1433.58   \n",
       "20628                643.42               1602.46               1428.18   \n",
       "20629                643.23               1605.26               1426.53   \n",
       "20630                643.85               1600.38               1432.14   \n",
       "\n",
       "       sensor_measurement_5  ...  sensor_measurement_12  \\\n",
       "20626                 14.62  ...                 519.49   \n",
       "20627                 14.62  ...                 519.68   \n",
       "20628                 14.62  ...                 520.01   \n",
       "20629                 14.62  ...                 519.67   \n",
       "20630                 14.62  ...                 519.30   \n",
       "\n",
       "       sensor_measurement_13  sensor_measurement_14  sensor_measurement_15  \\\n",
       "20626                2388.26                8137.60                 8.4956   \n",
       "20627                2388.22                8136.50                 8.5139   \n",
       "20628                2388.24                8141.05                 8.5646   \n",
       "20629                2388.23                8139.29                 8.5389   \n",
       "20630                2388.26                8137.33                 8.5036   \n",
       "\n",
       "       sensor_measurement_16  sensor_measurement_17  sensor_measurement_18  \\\n",
       "20626                   0.03                    397                   2388   \n",
       "20627                   0.03                    395                   2388   \n",
       "20628                   0.03                    398                   2388   \n",
       "20629                   0.03                    395                   2388   \n",
       "20630                   0.03                    396                   2388   \n",
       "\n",
       "       sensor_measurement_19  sensor_measurement_20  sensor_measurement_21  \n",
       "20626                  100.0                  38.49                22.9735  \n",
       "20627                  100.0                  38.30                23.1594  \n",
       "20628                  100.0                  38.44                22.9333  \n",
       "20629                  100.0                  38.29                23.0640  \n",
       "20630                  100.0                  38.37                23.0522  \n",
       "\n",
       "[5 rows x 26 columns]"
      ]
     },
     "execution_count": 4,
     "metadata": {},
     "output_type": "execute_result"
    }
   ],
   "source": [
    "df_train.tail()"
   ]
  },
  {
   "cell_type": "markdown",
   "metadata": {
    "colab_type": "text",
    "id": "F11EyaxuhcLV"
   },
   "source": [
    "# Add RUL as a column"
   ]
  },
  {
   "cell_type": "code",
   "execution_count": 8,
   "metadata": {
    "colab": {},
    "colab_type": "code",
    "id": "PpItAkX0hcLW"
   },
   "outputs": [],
   "source": [
    "def find_nr_cycles(engine):\n",
    "    df_engine_no = df_train['engine_no'] == engine\n",
    "    return df_train[df_engine_no].shape[0]"
   ]
  },
  {
   "cell_type": "code",
   "execution_count": 9,
   "metadata": {
    "colab": {},
    "colab_type": "code",
    "id": "1ud-layMhcLa"
   },
   "outputs": [],
   "source": [
    "result = []\n",
    "for engine in range(1, 101):\n",
    "    for cycle in reversed(range(find_nr_cycles(engine))):\n",
    "        result.append(cycle)\n",
    "        \n",
    "df_train['RUL'] = result"
   ]
  },
  {
   "cell_type": "code",
   "execution_count": 10,
   "metadata": {
    "colab": {},
    "colab_type": "code",
    "id": "OHUwcQSWhcLd",
    "outputId": "66d94b6b-c5ea-4938-9d06-300811d5c1ca"
   },
   "outputs": [
    {
     "data": {
      "text/html": [
       "<div>\n",
       "<style scoped>\n",
       "    .dataframe tbody tr th:only-of-type {\n",
       "        vertical-align: middle;\n",
       "    }\n",
       "\n",
       "    .dataframe tbody tr th {\n",
       "        vertical-align: top;\n",
       "    }\n",
       "\n",
       "    .dataframe thead th {\n",
       "        text-align: right;\n",
       "    }\n",
       "</style>\n",
       "<table border=\"1\" class=\"dataframe\">\n",
       "  <thead>\n",
       "    <tr style=\"text-align: right;\">\n",
       "      <th></th>\n",
       "      <th>engine_no</th>\n",
       "      <th>time_in_cycles</th>\n",
       "      <th>operational_setting_1</th>\n",
       "      <th>operational_setting_2</th>\n",
       "      <th>operational_setting_3</th>\n",
       "      <th>sensor_measurement_1</th>\n",
       "      <th>sensor_measurement_2</th>\n",
       "      <th>sensor_measurement_3</th>\n",
       "      <th>sensor_measurement_4</th>\n",
       "      <th>sensor_measurement_5</th>\n",
       "      <th>...</th>\n",
       "      <th>sensor_measurement_13</th>\n",
       "      <th>sensor_measurement_14</th>\n",
       "      <th>sensor_measurement_15</th>\n",
       "      <th>sensor_measurement_16</th>\n",
       "      <th>sensor_measurement_17</th>\n",
       "      <th>sensor_measurement_18</th>\n",
       "      <th>sensor_measurement_19</th>\n",
       "      <th>sensor_measurement_20</th>\n",
       "      <th>sensor_measurement_21</th>\n",
       "      <th>RUL</th>\n",
       "    </tr>\n",
       "  </thead>\n",
       "  <tbody>\n",
       "    <tr>\n",
       "      <th>0</th>\n",
       "      <td>1</td>\n",
       "      <td>1</td>\n",
       "      <td>-0.0007</td>\n",
       "      <td>-0.0004</td>\n",
       "      <td>100.0</td>\n",
       "      <td>518.67</td>\n",
       "      <td>641.82</td>\n",
       "      <td>1589.70</td>\n",
       "      <td>1400.60</td>\n",
       "      <td>14.62</td>\n",
       "      <td>...</td>\n",
       "      <td>2388.02</td>\n",
       "      <td>8138.62</td>\n",
       "      <td>8.4195</td>\n",
       "      <td>0.03</td>\n",
       "      <td>392</td>\n",
       "      <td>2388</td>\n",
       "      <td>100.0</td>\n",
       "      <td>39.06</td>\n",
       "      <td>23.4190</td>\n",
       "      <td>191</td>\n",
       "    </tr>\n",
       "    <tr>\n",
       "      <th>1</th>\n",
       "      <td>1</td>\n",
       "      <td>2</td>\n",
       "      <td>0.0019</td>\n",
       "      <td>-0.0003</td>\n",
       "      <td>100.0</td>\n",
       "      <td>518.67</td>\n",
       "      <td>642.15</td>\n",
       "      <td>1591.82</td>\n",
       "      <td>1403.14</td>\n",
       "      <td>14.62</td>\n",
       "      <td>...</td>\n",
       "      <td>2388.07</td>\n",
       "      <td>8131.49</td>\n",
       "      <td>8.4318</td>\n",
       "      <td>0.03</td>\n",
       "      <td>392</td>\n",
       "      <td>2388</td>\n",
       "      <td>100.0</td>\n",
       "      <td>39.00</td>\n",
       "      <td>23.4236</td>\n",
       "      <td>190</td>\n",
       "    </tr>\n",
       "    <tr>\n",
       "      <th>2</th>\n",
       "      <td>1</td>\n",
       "      <td>3</td>\n",
       "      <td>-0.0043</td>\n",
       "      <td>0.0003</td>\n",
       "      <td>100.0</td>\n",
       "      <td>518.67</td>\n",
       "      <td>642.35</td>\n",
       "      <td>1587.99</td>\n",
       "      <td>1404.20</td>\n",
       "      <td>14.62</td>\n",
       "      <td>...</td>\n",
       "      <td>2388.03</td>\n",
       "      <td>8133.23</td>\n",
       "      <td>8.4178</td>\n",
       "      <td>0.03</td>\n",
       "      <td>390</td>\n",
       "      <td>2388</td>\n",
       "      <td>100.0</td>\n",
       "      <td>38.95</td>\n",
       "      <td>23.3442</td>\n",
       "      <td>189</td>\n",
       "    </tr>\n",
       "    <tr>\n",
       "      <th>3</th>\n",
       "      <td>1</td>\n",
       "      <td>4</td>\n",
       "      <td>0.0007</td>\n",
       "      <td>0.0000</td>\n",
       "      <td>100.0</td>\n",
       "      <td>518.67</td>\n",
       "      <td>642.35</td>\n",
       "      <td>1582.79</td>\n",
       "      <td>1401.87</td>\n",
       "      <td>14.62</td>\n",
       "      <td>...</td>\n",
       "      <td>2388.08</td>\n",
       "      <td>8133.83</td>\n",
       "      <td>8.3682</td>\n",
       "      <td>0.03</td>\n",
       "      <td>392</td>\n",
       "      <td>2388</td>\n",
       "      <td>100.0</td>\n",
       "      <td>38.88</td>\n",
       "      <td>23.3739</td>\n",
       "      <td>188</td>\n",
       "    </tr>\n",
       "    <tr>\n",
       "      <th>4</th>\n",
       "      <td>1</td>\n",
       "      <td>5</td>\n",
       "      <td>-0.0019</td>\n",
       "      <td>-0.0002</td>\n",
       "      <td>100.0</td>\n",
       "      <td>518.67</td>\n",
       "      <td>642.37</td>\n",
       "      <td>1582.85</td>\n",
       "      <td>1406.22</td>\n",
       "      <td>14.62</td>\n",
       "      <td>...</td>\n",
       "      <td>2388.04</td>\n",
       "      <td>8133.80</td>\n",
       "      <td>8.4294</td>\n",
       "      <td>0.03</td>\n",
       "      <td>393</td>\n",
       "      <td>2388</td>\n",
       "      <td>100.0</td>\n",
       "      <td>38.90</td>\n",
       "      <td>23.4044</td>\n",
       "      <td>187</td>\n",
       "    </tr>\n",
       "  </tbody>\n",
       "</table>\n",
       "<p>5 rows × 27 columns</p>\n",
       "</div>"
      ],
      "text/plain": [
       "   engine_no  time_in_cycles  operational_setting_1  operational_setting_2  \\\n",
       "0          1               1                -0.0007                -0.0004   \n",
       "1          1               2                 0.0019                -0.0003   \n",
       "2          1               3                -0.0043                 0.0003   \n",
       "3          1               4                 0.0007                 0.0000   \n",
       "4          1               5                -0.0019                -0.0002   \n",
       "\n",
       "   operational_setting_3  sensor_measurement_1  sensor_measurement_2  \\\n",
       "0                  100.0                518.67                641.82   \n",
       "1                  100.0                518.67                642.15   \n",
       "2                  100.0                518.67                642.35   \n",
       "3                  100.0                518.67                642.35   \n",
       "4                  100.0                518.67                642.37   \n",
       "\n",
       "   sensor_measurement_3  sensor_measurement_4  sensor_measurement_5  ...  \\\n",
       "0               1589.70               1400.60                 14.62  ...   \n",
       "1               1591.82               1403.14                 14.62  ...   \n",
       "2               1587.99               1404.20                 14.62  ...   \n",
       "3               1582.79               1401.87                 14.62  ...   \n",
       "4               1582.85               1406.22                 14.62  ...   \n",
       "\n",
       "   sensor_measurement_13  sensor_measurement_14  sensor_measurement_15  \\\n",
       "0                2388.02                8138.62                 8.4195   \n",
       "1                2388.07                8131.49                 8.4318   \n",
       "2                2388.03                8133.23                 8.4178   \n",
       "3                2388.08                8133.83                 8.3682   \n",
       "4                2388.04                8133.80                 8.4294   \n",
       "\n",
       "   sensor_measurement_16  sensor_measurement_17  sensor_measurement_18  \\\n",
       "0                   0.03                    392                   2388   \n",
       "1                   0.03                    392                   2388   \n",
       "2                   0.03                    390                   2388   \n",
       "3                   0.03                    392                   2388   \n",
       "4                   0.03                    393                   2388   \n",
       "\n",
       "   sensor_measurement_19  sensor_measurement_20  sensor_measurement_21  RUL  \n",
       "0                  100.0                  39.06                23.4190  191  \n",
       "1                  100.0                  39.00                23.4236  190  \n",
       "2                  100.0                  38.95                23.3442  189  \n",
       "3                  100.0                  38.88                23.3739  188  \n",
       "4                  100.0                  38.90                23.4044  187  \n",
       "\n",
       "[5 rows x 27 columns]"
      ]
     },
     "execution_count": 10,
     "metadata": {},
     "output_type": "execute_result"
    }
   ],
   "source": [
    "df_train.head()"
   ]
  },
  {
   "cell_type": "markdown",
   "metadata": {},
   "source": [
    "# Feature selection and Data Exploration\n",
    "\n",
    "### Plotting"
   ]
  },
  {
   "cell_type": "code",
   "execution_count": 11,
   "metadata": {
    "colab": {},
    "colab_type": "code",
    "id": "AFE3tz_1hcLj",
    "outputId": "c5929605-50c9-45bb-a86b-c482b02c7c7a",
    "scrolled": false
   },
   "outputs": [],
   "source": [
    "def draw_plot():\n",
    "    fig, axes = plt.subplots(3,8, sharex=True)\n",
    "    fig.set_figwidth(25)\n",
    "    fig.set_figheight(10)\n",
    "    i = 2\n",
    "    for row in axes:\n",
    "        for ax in row:\n",
    "            ax.scatter(x=df_train.iloc[:,26] , y=df_train.iloc[:,i], alpha=0.5)\n",
    "            ax.set_xlabel(\"RUL\")\n",
    "            ax.set_ylabel(df_train.columns[i])\n",
    "            i += 1\n",
    "    plt.tight_layout()\n",
    "    fig.savefig('Data_exploration_figure')\n",
    "    \n",
    "draw_plot()"
   ]
  },
  {
   "cell_type": "markdown",
   "metadata": {},
   "source": [
    "Based on the plots, we decided to do a visual feature selection, since there is a very clear distinction between the variables which have a correlation with RUL and those that don't.\n",
    "\n",
    "#### Variables that will be dropped:\n",
    "- operational_settings_2\n",
    "- operational_settings_3\n",
    "- sensor_measurements_1\n",
    "- sensor_measurements_5\n",
    "- sensor_measurements_6\n",
    "- sensor_measurements_10\n",
    "- sensor_measurements_16\n",
    "- sensor_measurements_18\n",
    "- sensor_measurements_19\n"
   ]
  },
  {
   "cell_type": "code",
   "execution_count": 12,
   "metadata": {},
   "outputs": [
    {
     "data": {
      "text/html": [
       "<div>\n",
       "<style scoped>\n",
       "    .dataframe tbody tr th:only-of-type {\n",
       "        vertical-align: middle;\n",
       "    }\n",
       "\n",
       "    .dataframe tbody tr th {\n",
       "        vertical-align: top;\n",
       "    }\n",
       "\n",
       "    .dataframe thead th {\n",
       "        text-align: right;\n",
       "    }\n",
       "</style>\n",
       "<table border=\"1\" class=\"dataframe\">\n",
       "  <thead>\n",
       "    <tr style=\"text-align: right;\">\n",
       "      <th></th>\n",
       "      <th>engine_no</th>\n",
       "      <th>time_in_cycles</th>\n",
       "      <th>operational_setting_1</th>\n",
       "      <th>sensor_measurement_2</th>\n",
       "      <th>sensor_measurement_3</th>\n",
       "      <th>sensor_measurement_4</th>\n",
       "      <th>sensor_measurement_7</th>\n",
       "      <th>sensor_measurement_8</th>\n",
       "      <th>sensor_measurement_9</th>\n",
       "      <th>sensor_measurement_11</th>\n",
       "      <th>sensor_measurement_12</th>\n",
       "      <th>sensor_measurement_13</th>\n",
       "      <th>sensor_measurement_14</th>\n",
       "      <th>sensor_measurement_15</th>\n",
       "      <th>sensor_measurement_17</th>\n",
       "      <th>sensor_measurement_20</th>\n",
       "      <th>sensor_measurement_21</th>\n",
       "      <th>RUL</th>\n",
       "    </tr>\n",
       "  </thead>\n",
       "  <tbody>\n",
       "    <tr>\n",
       "      <th>0</th>\n",
       "      <td>1</td>\n",
       "      <td>1</td>\n",
       "      <td>-0.0007</td>\n",
       "      <td>641.82</td>\n",
       "      <td>1589.70</td>\n",
       "      <td>1400.60</td>\n",
       "      <td>554.36</td>\n",
       "      <td>2388.06</td>\n",
       "      <td>9046.19</td>\n",
       "      <td>47.47</td>\n",
       "      <td>521.66</td>\n",
       "      <td>2388.02</td>\n",
       "      <td>8138.62</td>\n",
       "      <td>8.4195</td>\n",
       "      <td>392</td>\n",
       "      <td>39.06</td>\n",
       "      <td>23.4190</td>\n",
       "      <td>191</td>\n",
       "    </tr>\n",
       "    <tr>\n",
       "      <th>1</th>\n",
       "      <td>1</td>\n",
       "      <td>2</td>\n",
       "      <td>0.0019</td>\n",
       "      <td>642.15</td>\n",
       "      <td>1591.82</td>\n",
       "      <td>1403.14</td>\n",
       "      <td>553.75</td>\n",
       "      <td>2388.04</td>\n",
       "      <td>9044.07</td>\n",
       "      <td>47.49</td>\n",
       "      <td>522.28</td>\n",
       "      <td>2388.07</td>\n",
       "      <td>8131.49</td>\n",
       "      <td>8.4318</td>\n",
       "      <td>392</td>\n",
       "      <td>39.00</td>\n",
       "      <td>23.4236</td>\n",
       "      <td>190</td>\n",
       "    </tr>\n",
       "    <tr>\n",
       "      <th>2</th>\n",
       "      <td>1</td>\n",
       "      <td>3</td>\n",
       "      <td>-0.0043</td>\n",
       "      <td>642.35</td>\n",
       "      <td>1587.99</td>\n",
       "      <td>1404.20</td>\n",
       "      <td>554.26</td>\n",
       "      <td>2388.08</td>\n",
       "      <td>9052.94</td>\n",
       "      <td>47.27</td>\n",
       "      <td>522.42</td>\n",
       "      <td>2388.03</td>\n",
       "      <td>8133.23</td>\n",
       "      <td>8.4178</td>\n",
       "      <td>390</td>\n",
       "      <td>38.95</td>\n",
       "      <td>23.3442</td>\n",
       "      <td>189</td>\n",
       "    </tr>\n",
       "    <tr>\n",
       "      <th>3</th>\n",
       "      <td>1</td>\n",
       "      <td>4</td>\n",
       "      <td>0.0007</td>\n",
       "      <td>642.35</td>\n",
       "      <td>1582.79</td>\n",
       "      <td>1401.87</td>\n",
       "      <td>554.45</td>\n",
       "      <td>2388.11</td>\n",
       "      <td>9049.48</td>\n",
       "      <td>47.13</td>\n",
       "      <td>522.86</td>\n",
       "      <td>2388.08</td>\n",
       "      <td>8133.83</td>\n",
       "      <td>8.3682</td>\n",
       "      <td>392</td>\n",
       "      <td>38.88</td>\n",
       "      <td>23.3739</td>\n",
       "      <td>188</td>\n",
       "    </tr>\n",
       "    <tr>\n",
       "      <th>4</th>\n",
       "      <td>1</td>\n",
       "      <td>5</td>\n",
       "      <td>-0.0019</td>\n",
       "      <td>642.37</td>\n",
       "      <td>1582.85</td>\n",
       "      <td>1406.22</td>\n",
       "      <td>554.00</td>\n",
       "      <td>2388.06</td>\n",
       "      <td>9055.15</td>\n",
       "      <td>47.28</td>\n",
       "      <td>522.19</td>\n",
       "      <td>2388.04</td>\n",
       "      <td>8133.80</td>\n",
       "      <td>8.4294</td>\n",
       "      <td>393</td>\n",
       "      <td>38.90</td>\n",
       "      <td>23.4044</td>\n",
       "      <td>187</td>\n",
       "    </tr>\n",
       "  </tbody>\n",
       "</table>\n",
       "</div>"
      ],
      "text/plain": [
       "   engine_no  time_in_cycles  operational_setting_1  sensor_measurement_2  \\\n",
       "0          1               1                -0.0007                641.82   \n",
       "1          1               2                 0.0019                642.15   \n",
       "2          1               3                -0.0043                642.35   \n",
       "3          1               4                 0.0007                642.35   \n",
       "4          1               5                -0.0019                642.37   \n",
       "\n",
       "   sensor_measurement_3  sensor_measurement_4  sensor_measurement_7  \\\n",
       "0               1589.70               1400.60                554.36   \n",
       "1               1591.82               1403.14                553.75   \n",
       "2               1587.99               1404.20                554.26   \n",
       "3               1582.79               1401.87                554.45   \n",
       "4               1582.85               1406.22                554.00   \n",
       "\n",
       "   sensor_measurement_8  sensor_measurement_9  sensor_measurement_11  \\\n",
       "0               2388.06               9046.19                  47.47   \n",
       "1               2388.04               9044.07                  47.49   \n",
       "2               2388.08               9052.94                  47.27   \n",
       "3               2388.11               9049.48                  47.13   \n",
       "4               2388.06               9055.15                  47.28   \n",
       "\n",
       "   sensor_measurement_12  sensor_measurement_13  sensor_measurement_14  \\\n",
       "0                 521.66                2388.02                8138.62   \n",
       "1                 522.28                2388.07                8131.49   \n",
       "2                 522.42                2388.03                8133.23   \n",
       "3                 522.86                2388.08                8133.83   \n",
       "4                 522.19                2388.04                8133.80   \n",
       "\n",
       "   sensor_measurement_15  sensor_measurement_17  sensor_measurement_20  \\\n",
       "0                 8.4195                    392                  39.06   \n",
       "1                 8.4318                    392                  39.00   \n",
       "2                 8.4178                    390                  38.95   \n",
       "3                 8.3682                    392                  38.88   \n",
       "4                 8.4294                    393                  38.90   \n",
       "\n",
       "   sensor_measurement_21  RUL  \n",
       "0                23.4190  191  \n",
       "1                23.4236  190  \n",
       "2                23.3442  189  \n",
       "3                23.3739  188  \n",
       "4                23.4044  187  "
      ]
     },
     "execution_count": 12,
     "metadata": {},
     "output_type": "execute_result"
    }
   ],
   "source": [
    "dropped_variables = [\"operational_setting_2\", \"operational_setting_3\", \"sensor_measurement_1\", \"sensor_measurement_5\", \"sensor_measurement_6\", \"sensor_measurement_10\", \"sensor_measurement_16\", \"sensor_measurement_18\", \"sensor_measurement_19\"]\n",
    "\n",
    "df_train = df_train.drop(columns=dropped_variables)\n",
    "\n",
    "df_train.head()"
   ]
  },
  {
   "cell_type": "markdown",
   "metadata": {
    "colab_type": "text",
    "id": "Jr0fm6wPhcLn"
   },
   "source": [
    "# Create train/test split"
   ]
  },
  {
   "cell_type": "code",
   "execution_count": 13,
   "metadata": {
    "colab": {},
    "colab_type": "code",
    "id": "YSxz1mZBhcLo"
   },
   "outputs": [],
   "source": [
    "def get_dataframe_for(engine):\n",
    "    engine_no = df_train['engine_no'] == engine\n",
    "    return df_train[engine_no]"
   ]
  },
  {
   "cell_type": "code",
   "execution_count": 14,
   "metadata": {
    "colab": {},
    "colab_type": "code",
    "id": "yTCClBWzhcLr",
    "outputId": "1e114ea3-2b44-4022-c2b9-92116f81144d"
   },
   "outputs": [
    {
     "name": "stdout",
     "output_type": "stream",
     "text": [
      "[1, 2, 3, 4, 6, 9, 10, 11, 13, 15, 16, 17, 19, 20, 23, 24, 26, 27, 28, 29, 30, 31, 32, 33, 34, 35, 36, 37, 38, 39, 40, 41, 42, 44, 45, 46, 47, 48, 49, 50, 51, 52, 53, 54, 55, 56, 57, 58, 60, 61, 63, 64, 65, 66, 67, 68, 69, 71, 72, 73, 74, 75, 76, 77, 79, 81, 82, 86, 87, 88, 89, 90, 92, 93, 94, 95, 96, 98, 99, 100]\n",
      "[5, 7, 8, 12, 14, 18, 21, 22, 25, 43, 59, 62, 70, 78, 80, 83, 84, 85, 91, 97]\n"
     ]
    }
   ],
   "source": [
    "#80 train engines (80%)\n",
    "train_engines = sorted(random.sample(list(set(df_train['engine_no'])), 80))\n",
    "\n",
    "#20 test engines (20%)\n",
    "test_engines = list(set(df_train['engine_no']))\n",
    "for i in train_engines:\n",
    "    test_engines.remove(i)\n",
    "\n",
    "print(train_engines)\n",
    "print(test_engines)"
   ]
  },
  {
   "cell_type": "markdown",
   "metadata": {
    "colab_type": "text",
    "id": "HonAF1SShcLv"
   },
   "source": [
    "## Create test and train dataframes"
   ]
  },
  {
   "cell_type": "code",
   "execution_count": 15,
   "metadata": {
    "colab": {},
    "colab_type": "code",
    "id": "4Y0XDBJthcLw",
    "outputId": "11944b3e-7462-4e48-b92d-045f78ea30a2"
   },
   "outputs": [
    {
     "data": {
      "text/plain": [
       "(16525, 18)"
      ]
     },
     "execution_count": 15,
     "metadata": {},
     "output_type": "execute_result"
    }
   ],
   "source": [
    "df_training = get_dataframe_for(train_engines[0]).reset_index(drop=True)\n",
    "\n",
    "for engine in train_engines[1:]:\n",
    "    df_training = df_training.append(get_dataframe_for(engine).reset_index(drop=True))\n",
    "    \n",
    "df_training.shape"
   ]
  },
  {
   "cell_type": "code",
   "execution_count": 16,
   "metadata": {
    "colab": {},
    "colab_type": "code",
    "id": "svhGTatYhcLz",
    "outputId": "76aa5b5a-79b2-4a7a-eed2-a73e6d94ef8e"
   },
   "outputs": [
    {
     "data": {
      "text/plain": [
       "(4106, 18)"
      ]
     },
     "execution_count": 16,
     "metadata": {},
     "output_type": "execute_result"
    }
   ],
   "source": [
    "df_testing = get_dataframe_for(test_engines[0]).reset_index(drop=True)\n",
    "\n",
    "for engine in test_engines[1:]:\n",
    "    df_testing = df_testing.append(get_dataframe_for(engine).reset_index(drop=True))\n",
    "\n",
    "df_testing.shape"
   ]
  },
  {
   "cell_type": "code",
   "execution_count": 17,
   "metadata": {
    "colab": {},
    "colab_type": "code",
    "id": "MyLwsFV8hcL3",
    "outputId": "d4af0e34-d5a0-4882-df98-10001c727793"
   },
   "outputs": [
    {
     "data": {
      "text/html": [
       "<div>\n",
       "<style scoped>\n",
       "    .dataframe tbody tr th:only-of-type {\n",
       "        vertical-align: middle;\n",
       "    }\n",
       "\n",
       "    .dataframe tbody tr th {\n",
       "        vertical-align: top;\n",
       "    }\n",
       "\n",
       "    .dataframe thead th {\n",
       "        text-align: right;\n",
       "    }\n",
       "</style>\n",
       "<table border=\"1\" class=\"dataframe\">\n",
       "  <thead>\n",
       "    <tr style=\"text-align: right;\">\n",
       "      <th></th>\n",
       "      <th>engine_no</th>\n",
       "      <th>time_in_cycles</th>\n",
       "      <th>operational_setting_1</th>\n",
       "      <th>sensor_measurement_2</th>\n",
       "      <th>sensor_measurement_3</th>\n",
       "      <th>sensor_measurement_4</th>\n",
       "      <th>sensor_measurement_7</th>\n",
       "      <th>sensor_measurement_8</th>\n",
       "      <th>sensor_measurement_9</th>\n",
       "      <th>sensor_measurement_11</th>\n",
       "      <th>sensor_measurement_12</th>\n",
       "      <th>sensor_measurement_13</th>\n",
       "      <th>sensor_measurement_14</th>\n",
       "      <th>sensor_measurement_15</th>\n",
       "      <th>sensor_measurement_17</th>\n",
       "      <th>sensor_measurement_20</th>\n",
       "      <th>sensor_measurement_21</th>\n",
       "      <th>RUL</th>\n",
       "    </tr>\n",
       "  </thead>\n",
       "  <tbody>\n",
       "    <tr>\n",
       "      <th>0</th>\n",
       "      <td>5</td>\n",
       "      <td>1</td>\n",
       "      <td>0.0031</td>\n",
       "      <td>641.77</td>\n",
       "      <td>1583.59</td>\n",
       "      <td>1395.26</td>\n",
       "      <td>554.39</td>\n",
       "      <td>2387.98</td>\n",
       "      <td>9066.49</td>\n",
       "      <td>47.19</td>\n",
       "      <td>522.34</td>\n",
       "      <td>2388.00</td>\n",
       "      <td>8152.22</td>\n",
       "      <td>8.4102</td>\n",
       "      <td>393</td>\n",
       "      <td>38.98</td>\n",
       "      <td>23.4468</td>\n",
       "      <td>268</td>\n",
       "    </tr>\n",
       "    <tr>\n",
       "      <th>1</th>\n",
       "      <td>5</td>\n",
       "      <td>2</td>\n",
       "      <td>0.0002</td>\n",
       "      <td>642.42</td>\n",
       "      <td>1589.69</td>\n",
       "      <td>1394.88</td>\n",
       "      <td>555.57</td>\n",
       "      <td>2388.01</td>\n",
       "      <td>9063.03</td>\n",
       "      <td>47.09</td>\n",
       "      <td>522.60</td>\n",
       "      <td>2387.99</td>\n",
       "      <td>8153.04</td>\n",
       "      <td>8.4053</td>\n",
       "      <td>392</td>\n",
       "      <td>39.12</td>\n",
       "      <td>23.4075</td>\n",
       "      <td>267</td>\n",
       "    </tr>\n",
       "    <tr>\n",
       "      <th>2</th>\n",
       "      <td>5</td>\n",
       "      <td>3</td>\n",
       "      <td>0.0002</td>\n",
       "      <td>642.07</td>\n",
       "      <td>1582.45</td>\n",
       "      <td>1396.29</td>\n",
       "      <td>554.49</td>\n",
       "      <td>2388.01</td>\n",
       "      <td>9068.21</td>\n",
       "      <td>47.11</td>\n",
       "      <td>522.85</td>\n",
       "      <td>2388.02</td>\n",
       "      <td>8148.42</td>\n",
       "      <td>8.3990</td>\n",
       "      <td>393</td>\n",
       "      <td>39.18</td>\n",
       "      <td>23.3298</td>\n",
       "      <td>266</td>\n",
       "    </tr>\n",
       "    <tr>\n",
       "      <th>3</th>\n",
       "      <td>5</td>\n",
       "      <td>4</td>\n",
       "      <td>0.0017</td>\n",
       "      <td>642.08</td>\n",
       "      <td>1586.84</td>\n",
       "      <td>1397.94</td>\n",
       "      <td>555.16</td>\n",
       "      <td>2387.96</td>\n",
       "      <td>9070.56</td>\n",
       "      <td>47.29</td>\n",
       "      <td>522.11</td>\n",
       "      <td>2387.99</td>\n",
       "      <td>8148.81</td>\n",
       "      <td>8.3876</td>\n",
       "      <td>390</td>\n",
       "      <td>39.22</td>\n",
       "      <td>23.4306</td>\n",
       "      <td>265</td>\n",
       "    </tr>\n",
       "    <tr>\n",
       "      <th>4</th>\n",
       "      <td>5</td>\n",
       "      <td>5</td>\n",
       "      <td>-0.0007</td>\n",
       "      <td>642.03</td>\n",
       "      <td>1581.45</td>\n",
       "      <td>1394.28</td>\n",
       "      <td>554.59</td>\n",
       "      <td>2387.98</td>\n",
       "      <td>9069.25</td>\n",
       "      <td>47.09</td>\n",
       "      <td>522.60</td>\n",
       "      <td>2387.95</td>\n",
       "      <td>8147.69</td>\n",
       "      <td>8.4129</td>\n",
       "      <td>390</td>\n",
       "      <td>39.17</td>\n",
       "      <td>23.3331</td>\n",
       "      <td>264</td>\n",
       "    </tr>\n",
       "  </tbody>\n",
       "</table>\n",
       "</div>"
      ],
      "text/plain": [
       "   engine_no  time_in_cycles  operational_setting_1  sensor_measurement_2  \\\n",
       "0          5               1                 0.0031                641.77   \n",
       "1          5               2                 0.0002                642.42   \n",
       "2          5               3                 0.0002                642.07   \n",
       "3          5               4                 0.0017                642.08   \n",
       "4          5               5                -0.0007                642.03   \n",
       "\n",
       "   sensor_measurement_3  sensor_measurement_4  sensor_measurement_7  \\\n",
       "0               1583.59               1395.26                554.39   \n",
       "1               1589.69               1394.88                555.57   \n",
       "2               1582.45               1396.29                554.49   \n",
       "3               1586.84               1397.94                555.16   \n",
       "4               1581.45               1394.28                554.59   \n",
       "\n",
       "   sensor_measurement_8  sensor_measurement_9  sensor_measurement_11  \\\n",
       "0               2387.98               9066.49                  47.19   \n",
       "1               2388.01               9063.03                  47.09   \n",
       "2               2388.01               9068.21                  47.11   \n",
       "3               2387.96               9070.56                  47.29   \n",
       "4               2387.98               9069.25                  47.09   \n",
       "\n",
       "   sensor_measurement_12  sensor_measurement_13  sensor_measurement_14  \\\n",
       "0                 522.34                2388.00                8152.22   \n",
       "1                 522.60                2387.99                8153.04   \n",
       "2                 522.85                2388.02                8148.42   \n",
       "3                 522.11                2387.99                8148.81   \n",
       "4                 522.60                2387.95                8147.69   \n",
       "\n",
       "   sensor_measurement_15  sensor_measurement_17  sensor_measurement_20  \\\n",
       "0                 8.4102                    393                  38.98   \n",
       "1                 8.4053                    392                  39.12   \n",
       "2                 8.3990                    393                  39.18   \n",
       "3                 8.3876                    390                  39.22   \n",
       "4                 8.4129                    390                  39.17   \n",
       "\n",
       "   sensor_measurement_21  RUL  \n",
       "0                23.4468  268  \n",
       "1                23.4075  267  \n",
       "2                23.3298  266  \n",
       "3                23.4306  265  \n",
       "4                23.3331  264  "
      ]
     },
     "execution_count": 17,
     "metadata": {},
     "output_type": "execute_result"
    }
   ],
   "source": [
    "df_testing.head()"
   ]
  },
  {
   "cell_type": "code",
   "execution_count": 18,
   "metadata": {},
   "outputs": [],
   "source": [
    "def evaluate_model(x_test, y_test, model):\n",
    "    y_pred = model.predict(x_test)\n",
    "    \n",
    "    errors = abs(y_pred-y_test)\n",
    "    errors_2 = (y_pred-y_test)**2\n",
    "    errors_p = abs(y_pred-y_test)/(y_test+0.5)\n",
    "    y_test = y_test.reshape([-1])\n",
    "    y_pred = y_pred.reshape([-1])\n",
    "    errordf = pd.DataFrame(dict(real=y_test, predicted=y_pred))\n",
    "    print('OVER ALL DATAPOINTS:')\n",
    "    print('Mean Absolute Error:', round(np.mean(errors), 2))\n",
    "    print('Mean Squared Error:', round(np.mean(errors_2), 2))\n",
    "    print('Mean Absolute Percentage Error: %i%%' % round(np.mean(errors_p)*100, 2))\n",
    "    print()\n",
    "    \n",
    "    relevant = errordf[errordf['real'] <= 40]\n",
    "    \n",
    "    rel_errors = abs(relevant['predicted']-relevant['real'])\n",
    "    rel_errors_2 = (relevant['predicted']-relevant['real'])**2\n",
    "    rel_errors_p = abs(relevant['predicted']-relevant['real'])/(relevant['real']+0.5)\n",
    "    print(\"OVER ONLY THE MOST RELEVANT RUL'S:\")\n",
    "    print('Mean Absolute Error:', round(np.mean(rel_errors), 2))\n",
    "    print('Mean Squared Error:', round(np.mean(rel_errors_2), 2))\n",
    "    print('Mean Absolute Percentage Error: %i%%' % round(np.mean(rel_errors_p)*100, 2))\n",
    "    \n",
    "    return y_pred"
   ]
  },
  {
   "cell_type": "markdown",
   "metadata": {
    "colab_type": "text",
    "id": "xYvcjcROhcL7"
   },
   "source": [
    "# Fit RandomForest using engine-based test/train split"
   ]
  },
  {
   "cell_type": "code",
   "execution_count": 19,
   "metadata": {
    "colab": {},
    "colab_type": "code",
    "id": "usYZ8ho8hcL9"
   },
   "outputs": [],
   "source": [
    "train_features = np.array(df_training.iloc[:,:-1])\n",
    "\n",
    "train_labels = np.array(df_training['RUL'])"
   ]
  },
  {
   "cell_type": "code",
   "execution_count": 20,
   "metadata": {
    "colab": {},
    "colab_type": "code",
    "id": "xs_EWZHKhcME"
   },
   "outputs": [],
   "source": [
    "rf = RandomForestRegressor(n_estimators = 100, random_state = 42)"
   ]
  },
  {
   "cell_type": "code",
   "execution_count": 21,
   "metadata": {
    "colab": {},
    "colab_type": "code",
    "id": "yqq2l-8mhcMH",
    "outputId": "00897ab1-a6d3-470f-8814-94ff193de3ac"
   },
   "outputs": [
    {
     "data": {
      "text/plain": [
       "RandomForestRegressor(bootstrap=True, criterion='mse', max_depth=None,\n",
       "           max_features='auto', max_leaf_nodes=None,\n",
       "           min_impurity_decrease=0.0, min_impurity_split=None,\n",
       "           min_samples_leaf=1, min_samples_split=2,\n",
       "           min_weight_fraction_leaf=0.0, n_estimators=100, n_jobs=None,\n",
       "           oob_score=False, random_state=42, verbose=0, warm_start=False)"
      ]
     },
     "execution_count": 21,
     "metadata": {},
     "output_type": "execute_result"
    }
   ],
   "source": [
    "rf.fit(train_features, train_labels)"
   ]
  },
  {
   "cell_type": "code",
   "execution_count": 22,
   "metadata": {
    "colab": {},
    "colab_type": "code",
    "id": "6lEPKAkQhcML"
   },
   "outputs": [],
   "source": [
    "test_features = np.array(df_testing.iloc[:,:-1])\n",
    "\n",
    "test_labels = np.array(df_testing['RUL'])"
   ]
  },
  {
   "cell_type": "code",
   "execution_count": 23,
   "metadata": {
    "colab": {},
    "colab_type": "code",
    "id": "EY53P90hhcMR"
   },
   "outputs": [
    {
     "name": "stdout",
     "output_type": "stream",
     "text": [
      "OVER ALL DATAPOINTS:\n",
      "Mean Absolute Error: 34.97\n",
      "Mean Squared Error: 2817.98\n",
      "Mean Absolute Percentage Error: 40%\n",
      "\n",
      "OVER ONLY THE MOST RELEVANT RUL'S:\n",
      "Mean Absolute Error: 7.22\n",
      "Mean Squared Error: 130.32\n",
      "Mean Absolute Percentage Error: 61%\n"
     ]
    }
   ],
   "source": [
    "rf_predictions = evaluate_model(test_features, test_labels, rf)"
   ]
  },
  {
   "cell_type": "markdown",
   "metadata": {
    "colab_type": "text",
    "id": "Hz4vJhMDhcNN"
   },
   "source": [
    "# Linear Regression"
   ]
  },
  {
   "cell_type": "code",
   "execution_count": 24,
   "metadata": {
    "colab": {},
    "colab_type": "code",
    "id": "ZVBk_q6HhcNO"
   },
   "outputs": [],
   "source": [
    "lm = LinearRegression()"
   ]
  },
  {
   "cell_type": "code",
   "execution_count": 25,
   "metadata": {
    "colab": {},
    "colab_type": "code",
    "id": "Ytb8q0AVhcNQ"
   },
   "outputs": [],
   "source": [
    "x_train = np.array(df_training.iloc[:,1:-1])\n",
    "y_train = np.array(df_training.iloc[:,-1])\n",
    "x_test = np.array(df_testing.iloc[:,1:-1])\n",
    "y_test = np.array(df_testing.iloc[:,-1])"
   ]
  },
  {
   "cell_type": "code",
   "execution_count": 26,
   "metadata": {
    "colab": {},
    "colab_type": "code",
    "id": "C0Rn4In-hcNU",
    "outputId": "1c6da1e6-e0d6-4983-b607-dcb28f48f527"
   },
   "outputs": [
    {
     "data": {
      "text/plain": [
       "LinearRegression(copy_X=True, fit_intercept=True, n_jobs=None,\n",
       "         normalize=False)"
      ]
     },
     "execution_count": 26,
     "metadata": {},
     "output_type": "execute_result"
    }
   ],
   "source": [
    "lm.fit(X=x_train, y=y_train)"
   ]
  },
  {
   "cell_type": "code",
   "execution_count": 27,
   "metadata": {
    "colab": {},
    "colab_type": "code",
    "id": "IIEGr74MhcNX"
   },
   "outputs": [
    {
     "name": "stdout",
     "output_type": "stream",
     "text": [
      "OVER ALL DATAPOINTS:\n",
      "Mean Absolute Error: 25.31\n",
      "Mean Squared Error: 1021.49\n",
      "Mean Absolute Percentage Error: 78%\n",
      "\n",
      "OVER ONLY THE MOST RELEVANT RUL'S:\n",
      "Mean Absolute Error: 21.11\n",
      "Mean Squared Error: 617.21\n",
      "Mean Absolute Percentage Error: 296%\n"
     ]
    }
   ],
   "source": [
    "lin_y_pred = evaluate_model(x_test, y_test, lm)"
   ]
  },
  {
   "cell_type": "markdown",
   "metadata": {
    "colab_type": "text",
    "id": "NrWYZaVahcMo"
   },
   "source": [
    "# LSTM\n",
    "\n",
    "Function below builds the 3D tensors required for an LSTM. First scales the values to the range 0-1, for better performance of NN. Then iterates over each engine, and takes a segment of *x* timesteps as inputs to LSTM. Optionally takes a drop_zeros argument. This drops the timeframes where the label=0. because 0's confuse the MAPE loss function."
   ]
  },
  {
   "cell_type": "code",
   "execution_count": 28,
   "metadata": {
    "colab": {},
    "colab_type": "code",
    "id": "WkltKM3PhcMp"
   },
   "outputs": [],
   "source": [
    "#Create tensor and ylabels for training\n",
    "def build_lstm_data(dataframe, timesteps, skip=1, scaler=None, drop_zeros=False):\n",
    "    xresult = []\n",
    "    yresult = []\n",
    "    \n",
    "    #Scale data to values between 0 and 1\n",
    "    df = deepcopy(dataframe)\n",
    "    if scaler is None:\n",
    "        scaler = MinMaxScaler()\n",
    "        df.iloc[:,:-1] = scaler.fit_transform(dataframe.iloc[:,:-1])\n",
    "    else:\n",
    "        df.iloc[:,:-1] = scaler.transform(dataframe.iloc[:,:-1])\n",
    "    \n",
    "    #Transform DF to 3D-array for LSTM\n",
    "    for _, engineframe in df.groupby('engine_no'):\n",
    "        for i in range(engineframe.shape[0]-timesteps):\n",
    "            if not (drop_zeros and engineframe.iloc[i+timesteps, -1] == 0):\n",
    "                xresult.append(np.array(engineframe.iloc[i:i+timesteps:skip, 1:-1]))\n",
    "                yresult.append(engineframe.iloc[i+timesteps, -1])\n",
    "    \n",
    "    return np.transpose(np.dstack(xresult), (2,0,1)), np.array(yresult).reshape((-1,1)), scaler"
   ]
  },
  {
   "cell_type": "code",
   "execution_count": 29,
   "metadata": {
    "colab": {},
    "colab_type": "code",
    "id": "6fg8KN6dhcMu"
   },
   "outputs": [],
   "source": [
    "def build_LSTM(loss_function):\n",
    "    model = Sequential()\n",
    "    model.add(layers.LSTM(20, activation='relu', input_shape=(20,16), return_sequences=True))\n",
    "    model.add(layers.LSTM(20, activation='relu'))\n",
    "    model.add(layers.Dense(20, activation='relu'))\n",
    "    model.add(layers.Dense(1, activation='linear'))\n",
    "    model.compile(optimizer='adam', loss=loss_function)\n",
    "    print(model.summary())\n",
    "    return model"
   ]
  },
  {
   "cell_type": "code",
   "execution_count": 30,
   "metadata": {},
   "outputs": [
    {
     "name": "stderr",
     "output_type": "stream",
     "text": [
      "/Users/sarahcoopmans96/anaconda3/lib/python3.6/site-packages/sklearn/preprocessing/data.py:334: DataConversionWarning: Data with input dtype int64, float64 were all converted to float64 by MinMaxScaler.\n",
      "  return self.partial_fit(X, y)\n",
      "/Users/sarahcoopmans96/anaconda3/lib/python3.6/site-packages/sklearn/preprocessing/data.py:334: DataConversionWarning: Data with input dtype int64, float64 were all converted to float64 by MinMaxScaler.\n",
      "  return self.partial_fit(X, y)\n"
     ]
    }
   ],
   "source": [
    "#Create training sets for the MAE loss function and MAPE loss function separately.\n",
    "x_train_mape, y_train_mape, scaler = build_lstm_data(df_training, 20, drop_zeros=True)\n",
    "x_train_mae, y_train_mae, scaler = build_lstm_data(df_training, 20, drop_zeros=False)"
   ]
  },
  {
   "cell_type": "code",
   "execution_count": 31,
   "metadata": {
    "colab": {},
    "colab_type": "code",
    "id": "H1ppaSfChcMr",
    "outputId": "f3200745-ab97-4b71-9f95-e6cb3ed2cc4d"
   },
   "outputs": [],
   "source": [
    "#Create test sets\n",
    "x_test, y_test, scaler = build_lstm_data(df_testing, 20, scaler=scaler)"
   ]
  },
  {
   "cell_type": "code",
   "execution_count": 32,
   "metadata": {},
   "outputs": [
    {
     "name": "stdout",
     "output_type": "stream",
     "text": [
      "_________________________________________________________________\n",
      "Layer (type)                 Output Shape              Param #   \n",
      "=================================================================\n",
      "lstm (LSTM)                  (None, 20, 20)            2960      \n",
      "_________________________________________________________________\n",
      "lstm_1 (LSTM)                (None, 20)                3280      \n",
      "_________________________________________________________________\n",
      "dense (Dense)                (None, 20)                420       \n",
      "_________________________________________________________________\n",
      "dense_1 (Dense)              (None, 1)                 21        \n",
      "=================================================================\n",
      "Total params: 6,681\n",
      "Trainable params: 6,681\n",
      "Non-trainable params: 0\n",
      "_________________________________________________________________\n",
      "None\n",
      "Train on 13432 samples, validate on 1493 samples\n",
      "Epoch 1/16\n",
      "13432/13432 [==============================] - 10s 737us/step - loss: 49.3996 - val_loss: 40.2233\n",
      "Epoch 2/16\n",
      "13432/13432 [==============================] - 9s 674us/step - loss: 27.7388 - val_loss: 42.8630\n",
      "Epoch 3/16\n",
      "13432/13432 [==============================] - 8s 575us/step - loss: 27.0946 - val_loss: 38.9611\n",
      "Epoch 4/16\n",
      "13432/13432 [==============================] - 8s 631us/step - loss: 25.6641 - val_loss: 37.7648\n",
      "Epoch 5/16\n",
      "13432/13432 [==============================] - 7s 554us/step - loss: 25.0723 - val_loss: 37.0799\n",
      "Epoch 6/16\n",
      "13432/13432 [==============================] - 7s 534us/step - loss: 24.5666 - val_loss: 37.7239\n",
      "Epoch 7/16\n",
      "13432/13432 [==============================] - 7s 542us/step - loss: 24.6848 - val_loss: 34.7427\n",
      "Epoch 8/16\n",
      "13432/13432 [==============================] - 7s 548us/step - loss: 23.8754 - val_loss: 34.9364\n",
      "Epoch 9/16\n",
      "13432/13432 [==============================] - 7s 491us/step - loss: 23.7081 - val_loss: 37.8909\n",
      "Epoch 10/16\n",
      "13432/13432 [==============================] - 6s 475us/step - loss: 24.0127 - val_loss: 36.6849\n",
      "Epoch 11/16\n",
      "13432/13432 [==============================] - 7s 487us/step - loss: 23.6425 - val_loss: 33.7968\n",
      "Epoch 12/16\n",
      "13432/13432 [==============================] - 6s 479us/step - loss: 23.0925 - val_loss: 36.2764\n",
      "Epoch 13/16\n",
      "13432/13432 [==============================] - 6s 482us/step - loss: 23.2032 - val_loss: 34.2298\n",
      "Epoch 14/16\n",
      "13432/13432 [==============================] - 7s 500us/step - loss: 22.7958 - val_loss: 32.1570\n",
      "Epoch 15/16\n",
      "13432/13432 [==============================] - 7s 544us/step - loss: 22.9546 - val_loss: 33.7514\n",
      "Epoch 16/16\n",
      "13432/13432 [==============================] - 7s 518us/step - loss: 22.3451 - val_loss: 37.5047\n"
     ]
    },
    {
     "data": {
      "text/plain": [
       "<tensorflow.python.keras.callbacks.History at 0x1a40348780>"
      ]
     },
     "execution_count": 32,
     "metadata": {},
     "output_type": "execute_result"
    }
   ],
   "source": [
    "mae_model = build_LSTM('mae')\n",
    "mae_model.fit(x=x_train_mae, y=y_train_mae, epochs=16, batch_size=100, validation_split=0.1)"
   ]
  },
  {
   "cell_type": "code",
   "execution_count": 33,
   "metadata": {},
   "outputs": [
    {
     "name": "stdout",
     "output_type": "stream",
     "text": [
      "_________________________________________________________________\n",
      "Layer (type)                 Output Shape              Param #   \n",
      "=================================================================\n",
      "lstm_2 (LSTM)                (None, 20, 20)            2960      \n",
      "_________________________________________________________________\n",
      "lstm_3 (LSTM)                (None, 20)                3280      \n",
      "_________________________________________________________________\n",
      "dense_2 (Dense)              (None, 20)                420       \n",
      "_________________________________________________________________\n",
      "dense_3 (Dense)              (None, 1)                 21        \n",
      "=================================================================\n",
      "Total params: 6,681\n",
      "Trainable params: 6,681\n",
      "Non-trainable params: 0\n",
      "_________________________________________________________________\n",
      "None\n",
      "Train on 13360 samples, validate on 1485 samples\n",
      "Epoch 1/16\n",
      "13360/13360 [==============================] - 8s 626us/step - loss: 76.5319 - val_loss: 46.5058\n",
      "Epoch 2/16\n",
      "13360/13360 [==============================] - 6s 467us/step - loss: 38.3817 - val_loss: 46.8038\n",
      "Epoch 3/16\n",
      "13360/13360 [==============================] - 6s 463us/step - loss: 35.1510 - val_loss: 44.6868\n",
      "Epoch 4/16\n",
      "13360/13360 [==============================] - 6s 484us/step - loss: 32.6313 - val_loss: 42.1769\n",
      "Epoch 5/16\n",
      "13360/13360 [==============================] - 7s 510us/step - loss: 31.8907 - val_loss: 40.5193\n",
      "Epoch 6/16\n",
      "13360/13360 [==============================] - 9s 679us/step - loss: 31.1752 - val_loss: 38.7336\n",
      "Epoch 7/16\n",
      "13360/13360 [==============================] - 8s 584us/step - loss: 30.3466 - val_loss: 37.6848\n",
      "Epoch 8/16\n",
      "13360/13360 [==============================] - 8s 564us/step - loss: 29.4050 - val_loss: 34.4698\n",
      "Epoch 9/16\n",
      "13360/13360 [==============================] - 7s 530us/step - loss: 29.3916 - val_loss: 37.4630\n",
      "Epoch 10/16\n",
      "13360/13360 [==============================] - 7s 551us/step - loss: 28.3072 - val_loss: 32.1255\n",
      "Epoch 11/16\n",
      "13360/13360 [==============================] - 8s 564us/step - loss: 27.8075 - val_loss: 32.6097\n",
      "Epoch 12/16\n",
      "13360/13360 [==============================] - 7s 509us/step - loss: 26.7324 - val_loss: 31.5925\n",
      "Epoch 13/16\n",
      "13360/13360 [==============================] - 7s 488us/step - loss: 25.6810 - val_loss: 29.4170\n",
      "Epoch 14/16\n",
      "13360/13360 [==============================] - 7s 522us/step - loss: 25.1711 - val_loss: 29.8625\n",
      "Epoch 15/16\n",
      "13360/13360 [==============================] - 6s 469us/step - loss: 24.2851 - val_loss: 27.7636\n",
      "Epoch 16/16\n",
      "13360/13360 [==============================] - 7s 517us/step - loss: 24.4932 - val_loss: 30.8384\n"
     ]
    },
    {
     "data": {
      "text/plain": [
       "<tensorflow.python.keras.callbacks.History at 0x1a409dc128>"
      ]
     },
     "execution_count": 33,
     "metadata": {},
     "output_type": "execute_result"
    }
   ],
   "source": [
    "mape_model = build_LSTM('mape')\n",
    "mape_model.fit(x=x_train_mape, y=y_train_mape, epochs=16, batch_size=100, validation_split=0.1)"
   ]
  },
  {
   "cell_type": "markdown",
   "metadata": {},
   "source": [
    "*As expected: the following statistics show a clear preference for MAPE based LSTM in terms of error in the most relevant region of predictions (RUL <40)*"
   ]
  },
  {
   "cell_type": "code",
   "execution_count": 34,
   "metadata": {
    "colab": {},
    "colab_type": "code",
    "id": "b46wTwh1hcM6"
   },
   "outputs": [
    {
     "name": "stdout",
     "output_type": "stream",
     "text": [
      "OVER ALL DATAPOINTS:\n",
      "Mean Absolute Error: 20.49\n",
      "Mean Squared Error: 770.62\n",
      "Mean Absolute Percentage Error: 24%\n",
      "\n",
      "OVER ONLY THE MOST RELEVANT RUL'S:\n",
      "Mean Absolute Error: 5.94\n",
      "Mean Squared Error: 57.79\n",
      "Mean Absolute Percentage Error: 35%\n"
     ]
    }
   ],
   "source": [
    "y_pred_mae = evaluate_model(x_test, y_test, mae_model)"
   ]
  },
  {
   "cell_type": "code",
   "execution_count": 35,
   "metadata": {},
   "outputs": [
    {
     "name": "stdout",
     "output_type": "stream",
     "text": [
      "OVER ALL DATAPOINTS:\n",
      "Mean Absolute Error: 19.51\n",
      "Mean Squared Error: 893.94\n",
      "Mean Absolute Percentage Error: 22%\n",
      "\n",
      "OVER ONLY THE MOST RELEVANT RUL'S:\n",
      "Mean Absolute Error: 4.32\n",
      "Mean Squared Error: 40.68\n",
      "Mean Absolute Percentage Error: 34%\n"
     ]
    }
   ],
   "source": [
    "y_pred_mape = evaluate_model(x_test, y_test, mape_model)"
   ]
  },
  {
   "cell_type": "markdown",
   "metadata": {},
   "source": [
    "##### The effect of which can also be inspected in the following plot"
   ]
  },
  {
   "cell_type": "code",
   "execution_count": 36,
   "metadata": {},
   "outputs": [],
   "source": [
    "fig, ax = plt.subplots()\n",
    "ax.set_xlim(-1,25.5)\n",
    "ax.set_ylim(-1,45.5)\n",
    "fig.set_figheight(7)\n",
    "fig.set_figwidth(10)\n",
    "ax.set_title('Comparison of MAE-based and MAPE-based LSTM results.')\n",
    "ax.set_xlabel('Ground truth RUL values')\n",
    "ax.set_ylabel('Predicted RUL values')\n",
    "ax.scatter(x=y_test, y=y_pred_mae, color='red', s=50, alpha=1, label='MAE predictions')\n",
    "ax.scatter(x=y_test, y=y_pred_mape, s=50, alpha=0.7, label='MAPE predictions')\n",
    "ax.plot(y_test, y_test, color='black', linewidth=1, alpha=0.8, label='Correct predictions')\n",
    "ax.legend()\n",
    "plt.tight_layout()\n",
    "fig.savefig('mae_mape full comparison')   \n",
    "plt.close(fig)"
   ]
  },
  {
   "cell_type": "markdown",
   "metadata": {
    "colab_type": "text",
    "id": "0V5Nu9nFhcNg"
   },
   "source": [
    "# Prediction\n",
    "## Part B "
   ]
  },
  {
   "cell_type": "code",
   "execution_count": 37,
   "metadata": {
    "colab": {},
    "colab_type": "code",
    "id": "QWDizn8whcNh"
   },
   "outputs": [],
   "source": [
    "operational_settings = ['operational_setting_{}'.format(i + 1) for i in range (3)]\n",
    "sensor_columns = ['sensor_measurement_{}'.format(i + 1) for i in range(21)]\n",
    "cols = ['engine_no', 'time_in_cycles'] + operational_settings + sensor_columns + ['empty1', 'empty2']\n",
    "df_schedule = pd.read_csv('DataSchedule.txt', sep=' ', names=cols)\n",
    "\n",
    "# Because the .txt files ends every line with two spaces, pandas interprets these as two empty columns, so these can be dropped.\n",
    "df_schedule = df_schedule.drop(columns=['empty1','empty2'])"
   ]
  },
  {
   "cell_type": "code",
   "execution_count": 38,
   "metadata": {
    "colab": {},
    "colab_type": "code",
    "id": "9N6RTarahcNj",
    "outputId": "f4195b27-ed09-4598-99e2-934e3ce51f36"
   },
   "outputs": [
    {
     "data": {
      "text/html": [
       "<div>\n",
       "<style scoped>\n",
       "    .dataframe tbody tr th:only-of-type {\n",
       "        vertical-align: middle;\n",
       "    }\n",
       "\n",
       "    .dataframe tbody tr th {\n",
       "        vertical-align: top;\n",
       "    }\n",
       "\n",
       "    .dataframe thead th {\n",
       "        text-align: right;\n",
       "    }\n",
       "</style>\n",
       "<table border=\"1\" class=\"dataframe\">\n",
       "  <thead>\n",
       "    <tr style=\"text-align: right;\">\n",
       "      <th></th>\n",
       "      <th>engine_no</th>\n",
       "      <th>time_in_cycles</th>\n",
       "      <th>operational_setting_1</th>\n",
       "      <th>operational_setting_2</th>\n",
       "      <th>operational_setting_3</th>\n",
       "      <th>sensor_measurement_1</th>\n",
       "      <th>sensor_measurement_2</th>\n",
       "      <th>sensor_measurement_3</th>\n",
       "      <th>sensor_measurement_4</th>\n",
       "      <th>sensor_measurement_5</th>\n",
       "      <th>...</th>\n",
       "      <th>sensor_measurement_12</th>\n",
       "      <th>sensor_measurement_13</th>\n",
       "      <th>sensor_measurement_14</th>\n",
       "      <th>sensor_measurement_15</th>\n",
       "      <th>sensor_measurement_16</th>\n",
       "      <th>sensor_measurement_17</th>\n",
       "      <th>sensor_measurement_18</th>\n",
       "      <th>sensor_measurement_19</th>\n",
       "      <th>sensor_measurement_20</th>\n",
       "      <th>sensor_measurement_21</th>\n",
       "    </tr>\n",
       "  </thead>\n",
       "  <tbody>\n",
       "    <tr>\n",
       "      <th>0</th>\n",
       "      <td>1</td>\n",
       "      <td>1</td>\n",
       "      <td>0.0023</td>\n",
       "      <td>0.0003</td>\n",
       "      <td>100.0</td>\n",
       "      <td>518.67</td>\n",
       "      <td>643.02</td>\n",
       "      <td>1585.29</td>\n",
       "      <td>1398.21</td>\n",
       "      <td>14.62</td>\n",
       "      <td>...</td>\n",
       "      <td>521.72</td>\n",
       "      <td>2388.03</td>\n",
       "      <td>8125.55</td>\n",
       "      <td>8.4052</td>\n",
       "      <td>0.03</td>\n",
       "      <td>392</td>\n",
       "      <td>2388</td>\n",
       "      <td>100.0</td>\n",
       "      <td>38.86</td>\n",
       "      <td>23.3735</td>\n",
       "    </tr>\n",
       "    <tr>\n",
       "      <th>1</th>\n",
       "      <td>1</td>\n",
       "      <td>2</td>\n",
       "      <td>-0.0027</td>\n",
       "      <td>-0.0003</td>\n",
       "      <td>100.0</td>\n",
       "      <td>518.67</td>\n",
       "      <td>641.71</td>\n",
       "      <td>1588.45</td>\n",
       "      <td>1395.42</td>\n",
       "      <td>14.62</td>\n",
       "      <td>...</td>\n",
       "      <td>522.16</td>\n",
       "      <td>2388.06</td>\n",
       "      <td>8139.62</td>\n",
       "      <td>8.3803</td>\n",
       "      <td>0.03</td>\n",
       "      <td>393</td>\n",
       "      <td>2388</td>\n",
       "      <td>100.0</td>\n",
       "      <td>39.02</td>\n",
       "      <td>23.3916</td>\n",
       "    </tr>\n",
       "    <tr>\n",
       "      <th>2</th>\n",
       "      <td>1</td>\n",
       "      <td>3</td>\n",
       "      <td>0.0003</td>\n",
       "      <td>0.0001</td>\n",
       "      <td>100.0</td>\n",
       "      <td>518.67</td>\n",
       "      <td>642.46</td>\n",
       "      <td>1586.94</td>\n",
       "      <td>1401.34</td>\n",
       "      <td>14.62</td>\n",
       "      <td>...</td>\n",
       "      <td>521.97</td>\n",
       "      <td>2388.03</td>\n",
       "      <td>8130.10</td>\n",
       "      <td>8.4441</td>\n",
       "      <td>0.03</td>\n",
       "      <td>393</td>\n",
       "      <td>2388</td>\n",
       "      <td>100.0</td>\n",
       "      <td>39.08</td>\n",
       "      <td>23.4166</td>\n",
       "    </tr>\n",
       "    <tr>\n",
       "      <th>3</th>\n",
       "      <td>1</td>\n",
       "      <td>4</td>\n",
       "      <td>0.0042</td>\n",
       "      <td>0.0000</td>\n",
       "      <td>100.0</td>\n",
       "      <td>518.67</td>\n",
       "      <td>642.44</td>\n",
       "      <td>1584.12</td>\n",
       "      <td>1406.42</td>\n",
       "      <td>14.62</td>\n",
       "      <td>...</td>\n",
       "      <td>521.38</td>\n",
       "      <td>2388.05</td>\n",
       "      <td>8132.90</td>\n",
       "      <td>8.3917</td>\n",
       "      <td>0.03</td>\n",
       "      <td>391</td>\n",
       "      <td>2388</td>\n",
       "      <td>100.0</td>\n",
       "      <td>39.00</td>\n",
       "      <td>23.3737</td>\n",
       "    </tr>\n",
       "    <tr>\n",
       "      <th>4</th>\n",
       "      <td>1</td>\n",
       "      <td>5</td>\n",
       "      <td>0.0014</td>\n",
       "      <td>0.0000</td>\n",
       "      <td>100.0</td>\n",
       "      <td>518.67</td>\n",
       "      <td>642.51</td>\n",
       "      <td>1587.19</td>\n",
       "      <td>1401.92</td>\n",
       "      <td>14.62</td>\n",
       "      <td>...</td>\n",
       "      <td>522.15</td>\n",
       "      <td>2388.03</td>\n",
       "      <td>8129.54</td>\n",
       "      <td>8.4031</td>\n",
       "      <td>0.03</td>\n",
       "      <td>390</td>\n",
       "      <td>2388</td>\n",
       "      <td>100.0</td>\n",
       "      <td>38.99</td>\n",
       "      <td>23.4130</td>\n",
       "    </tr>\n",
       "  </tbody>\n",
       "</table>\n",
       "<p>5 rows × 26 columns</p>\n",
       "</div>"
      ],
      "text/plain": [
       "   engine_no  time_in_cycles  operational_setting_1  operational_setting_2  \\\n",
       "0          1               1                 0.0023                 0.0003   \n",
       "1          1               2                -0.0027                -0.0003   \n",
       "2          1               3                 0.0003                 0.0001   \n",
       "3          1               4                 0.0042                 0.0000   \n",
       "4          1               5                 0.0014                 0.0000   \n",
       "\n",
       "   operational_setting_3  sensor_measurement_1  sensor_measurement_2  \\\n",
       "0                  100.0                518.67                643.02   \n",
       "1                  100.0                518.67                641.71   \n",
       "2                  100.0                518.67                642.46   \n",
       "3                  100.0                518.67                642.44   \n",
       "4                  100.0                518.67                642.51   \n",
       "\n",
       "   sensor_measurement_3  sensor_measurement_4  sensor_measurement_5  ...  \\\n",
       "0               1585.29               1398.21                 14.62  ...   \n",
       "1               1588.45               1395.42                 14.62  ...   \n",
       "2               1586.94               1401.34                 14.62  ...   \n",
       "3               1584.12               1406.42                 14.62  ...   \n",
       "4               1587.19               1401.92                 14.62  ...   \n",
       "\n",
       "   sensor_measurement_12  sensor_measurement_13  sensor_measurement_14  \\\n",
       "0                 521.72                2388.03                8125.55   \n",
       "1                 522.16                2388.06                8139.62   \n",
       "2                 521.97                2388.03                8130.10   \n",
       "3                 521.38                2388.05                8132.90   \n",
       "4                 522.15                2388.03                8129.54   \n",
       "\n",
       "   sensor_measurement_15  sensor_measurement_16  sensor_measurement_17  \\\n",
       "0                 8.4052                   0.03                    392   \n",
       "1                 8.3803                   0.03                    393   \n",
       "2                 8.4441                   0.03                    393   \n",
       "3                 8.3917                   0.03                    391   \n",
       "4                 8.4031                   0.03                    390   \n",
       "\n",
       "   sensor_measurement_18  sensor_measurement_19  sensor_measurement_20  \\\n",
       "0                   2388                  100.0                  38.86   \n",
       "1                   2388                  100.0                  39.02   \n",
       "2                   2388                  100.0                  39.08   \n",
       "3                   2388                  100.0                  39.00   \n",
       "4                   2388                  100.0                  38.99   \n",
       "\n",
       "   sensor_measurement_21  \n",
       "0                23.3735  \n",
       "1                23.3916  \n",
       "2                23.4166  \n",
       "3                23.3737  \n",
       "4                23.4130  \n",
       "\n",
       "[5 rows x 26 columns]"
      ]
     },
     "execution_count": 38,
     "metadata": {},
     "output_type": "execute_result"
    }
   ],
   "source": [
    "df_schedule.head()"
   ]
  },
  {
   "cell_type": "code",
   "execution_count": 39,
   "metadata": {
    "colab": {},
    "colab_type": "code",
    "id": "XiirUv8lhcNl"
   },
   "outputs": [],
   "source": [
    "def build_lstm_prediction_data(dataframe, timesteps, scaler=None, skip=1):\n",
    "    xresult = []\n",
    "    yresult = []\n",
    "    \n",
    "    dataframe = dataframe.drop(columns=dropped_variables)\n",
    "    \n",
    "    #Scale data to values between 0 and 1\n",
    "    df = pd.DataFrame(scaler.transform(dataframe.iloc[:,:]))\n",
    "    \n",
    "    #Transform DF to 3D-array for LSTM\n",
    "    for _, engineframe in df.groupby(0):\n",
    "        xresult.append(np.array(engineframe.iloc[-timesteps:, 1:]))\n",
    "    \n",
    "    return np.transpose(np.dstack(xresult), (2,0,1))"
   ]
  },
  {
   "cell_type": "code",
   "execution_count": 40,
   "metadata": {
    "colab": {},
    "colab_type": "code",
    "id": "Pkcf1XzKhcNo"
   },
   "outputs": [],
   "source": [
    "prediction_data = build_lstm_prediction_data(df_schedule, 20, scaler=scaler)"
   ]
  },
  {
   "cell_type": "code",
   "execution_count": 41,
   "metadata": {
    "colab": {},
    "colab_type": "code",
    "id": "JEYBTFvbhcNq"
   },
   "outputs": [],
   "source": [
    "predictions = mape_model.predict(prediction_data)"
   ]
  },
  {
   "cell_type": "code",
   "execution_count": 42,
   "metadata": {},
   "outputs": [],
   "source": [
    "predictions = predictions.round()"
   ]
  },
  {
   "cell_type": "code",
   "execution_count": 43,
   "metadata": {
    "colab": {},
    "colab_type": "code",
    "id": "SstlzxUHhcNs"
   },
   "outputs": [],
   "source": [
    "# Export predictions to Excel\n",
    "rul_predictions = pd.DataFrame({'id': range(1,101), 'RUL': predictions[:,0]})\n",
    "rul_predictions.to_excel('RUL_predictions.xlsx')"
   ]
  }
 ],
 "metadata": {
  "colab": {
   "name": "Assignment_4_2604.ipynb",
   "provenance": [],
   "version": "0.3.2"
  },
  "kernelspec": {
   "display_name": "Python 3",
   "language": "python",
   "name": "python3"
  },
  "language_info": {
   "codemirror_mode": {
    "name": "ipython",
    "version": 3
   },
   "file_extension": ".py",
   "mimetype": "text/x-python",
   "name": "python",
   "nbconvert_exporter": "python",
   "pygments_lexer": "ipython3",
   "version": "3.6.8"
  }
 },
 "nbformat": 4,
 "nbformat_minor": 2
}
